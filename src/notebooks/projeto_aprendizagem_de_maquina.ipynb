{
  "nbformat": 4,
  "nbformat_minor": 0,
  "metadata": {
    "colab": {
      "provenance": [],
      "collapsed_sections": [
        "fX-2ceuT_MlK",
        "uxm6t8ODj_PO",
        "4H3hWgkprujJ",
        "GCBFNt84vf_N"
      ],
      "include_colab_link": true
    },
    "kernelspec": {
      "name": "python3",
      "display_name": "Python 3"
    },
    "language_info": {
      "name": "python"
    }
  },
  "cells": [
    {
      "cell_type": "markdown",
      "metadata": {
        "id": "view-in-github",
        "colab_type": "text"
      },
      "source": [
        "<a href=\"https://colab.research.google.com/github/viniciussz7/classification_machine_learning/blob/main/src/notebooks/projeto_aprendizagem_de_maquina.ipynb\" target=\"_parent\"><img src=\"https://colab.research.google.com/assets/colab-badge.svg\" alt=\"Open In Colab\"/></a>"
      ]
    },
    {
      "cell_type": "markdown",
      "source": [
        "# PLANO DE PROJETO [LER PARA ACOMPANHAR O RACIOCINIO E PODER CONTRIBUIR DE FORMA ASSINCRONA\n",
        "[link DO DOC](https://docs.google.com/document/d/1geqLKlakevyHC8dC1BxJSpdSTCFqvyLIYwKCwYajBfQ/edit?usp=sharing)"
      ],
      "metadata": {
        "id": "zXvlxg3moTHf"
      }
    },
    {
      "cell_type": "markdown",
      "source": [
        "# Projeto de Aprendizagem de Máquina\n",
        "\n",
        "Este trabalho tem como objetivo aplicar os conceitos de Machine Learning (ML) vistos em sala de aula,\n",
        "utilizando uma base de dados real para desenvolver um projeto completo de ML.\n",
        "\n",
        "👥 Desenvolvido por:\n",
        "  - Gabriel Uzel\n",
        "  - Ivandro\n",
        "  - Vinícius Oliveira\n",
        "\n"
      ],
      "metadata": {
        "id": "5I4EiE7g-tK6"
      }
    },
    {
      "cell_type": "markdown",
      "source": [
        "## 📚 Importação das Bibliotecas\n",
        "\n",
        "Primeiro, importamos todas as bibliotecas necessárias para nossa análise e visualização dos dados.\n",
        "\n",
        "- **pandas 🐼**\n",
        "- **matplotlib 🎨**\n",
        "- **seaborn 📈**\n",
        "- **scikit-learn 🛠️**\n",
        "- **numpy 🔢**"
      ],
      "metadata": {
        "id": "YYtDeU_2BQFi"
      }
    },
    {
      "cell_type": "code",
      "source": [
        "# Instalação de pacotes necessários diretamente no ambiente do Colab\n",
        "!pip install matplotlib scikit-learn pandas seaborn kaggle\n",
        "\n",
        "# Importação de bibliotecas\n",
        "import numpy as np\n",
        "import pandas as pd\n",
        "import seaborn as sns\n",
        "import matplotlib.pyplot as plt\n",
        "from sklearn.model_selection import train_test_split, cross_val_score\n",
        "from sklearn.ensemble import RandomForestClassifier # Importar RandomForestClassifier\n",
        "from sklearn.preprocessing import StandardScaler\n",
        "from sklearn.metrics import accuracy_score, classification_report, confusion_matrix, roc_auc_score, RocCurveDisplay # Importar métricas de avaliação\n"
      ],
      "metadata": {
        "id": "XlhsHDtJBZFI"
      },
      "execution_count": null,
      "outputs": []
    },
    {
      "cell_type": "markdown",
      "source": [
        "##🗂️ Sobre o Dataset\n",
        "\n",
        "A base de dados é o conjunto **Heart Failure Prediction Dataset**. Disponível na plataforma Kaggle, no seguinte link:\n",
        "\n",
        "[Heart Failure Prediction Dataset](https://www.kaggle.com/datasets/fedesoriano/heart-failure-prediction/data)\n",
        "\n",
        "![Imagem Dataset](https://storage.googleapis.com/kaggle-datasets-images/1582403/2603715/fc66626bcce9dec0f401f3f69c2ab2d1/dataset-cover.jpg?t=2021-09-10-18-13-42)\n",
        "\n",
        "Esse conjunto de dados contém informações clínicas de pacientes, com o objetivo de prever a ocorrência de insuficiência cardíaca. As variáveis incluem idade, sexo, presença de doenças como diabetes e hipertensão, nível de creatinina, e outras métricas relevantes obtidas durante o acompanhamento hospitalar."
      ],
      "metadata": {
        "id": "fX-2ceuT_MlK"
      }
    },
    {
      "cell_type": "markdown",
      "source": [
        "###🟫 Atributos do Dataset\n",
        "\n",
        "* ***(Age):*** A idade do paciente em anos.\n",
        "* ***(Sex):*** O sexo do paciente.\n",
        "  * M: Masculino\n",
        "  * F: Feminino\n",
        "* ***(ChestPainType):*** O tipo de dor no peito relatada pelo paciente.\n",
        "  * TA (Angina Típica): Dor no peito clássica associada à angina.\n",
        "  * ATA (Angina Atípica): Dor no peito que não se encaixa perfeitamente nos padrões da angina típica.\n",
        "  * NAP (Dor Não Anginosa): Dor no peito que não está relacionada a problemas cardíacos.\n",
        "  * ASY (Assintomático): Ausência de dor no peito, mesmo na presença de doença cardíaca.\n",
        "* ***(RestingBP):*** A pressão arterial do paciente em repouso, medida em milímetros de mercúrio (mm Hg).\n",
        "* ***(Cholesterol):*** O nível de colesterol sérico (no sangue) do paciente, medido em miligramas por decilitro (mg/dl).\n",
        "* ***(FastingBS):*** Indica se o nível de açúcar no sangue do paciente em jejum é elevado.\n",
        "  * 1: Se a glicemia em jejum for maior que 120 mg/dl.\n",
        "  * 0: Caso contrário.\n",
        "* ***(RestingECG):*** Os resultados do eletrocardiograma (ECG) do paciente em repouso.\n",
        "  * Normal: O ECG apresenta resultados normais.\n",
        "  * ST: Indica anormalidade na onda ST-T (inversões da onda T e/ou elevação ou depressão do segmento ST maior que 0.05 mV). Isso pode sugerir isquemia miocárdica (falta de fluxo sanguíneo para o coração).\n",
        "  * LVH (Hipertrofia Ventricular Esquerda): Mostra provável ou definitiva hipertrofia ventricular esquerda pelos critérios de Estes. Isso significa que a parede do ventrículo esquerdo do coração está mais espessa do que o normal.\n",
        "* ***(MaxHR):*** A frequência cardíaca máxima que o paciente atingiu durante um teste de esforço. O valor numérico está entre 60 e 202 batimentos por minuto.\n",
        "* ***(ExerciseAngina):*** Indica se o paciente experimentou angina (dor no peito) durante o exercício.\n",
        "  * Y: Sim\n",
        "  * N: Não\n",
        "* ***(Oldpeak):*** Um valor numérico que representa a depressão do segmento ST do ECG durante o exercício, que é um indicador de isquemia.\n",
        "* ***(ST_Slope):*** A inclinação do segmento ST no pico do exercício.\n",
        "  * Up (Ascendente): A inclinação é para cima.\n",
        "  * Flat (Plana): A inclinação é plana.\n",
        "  * Down (Descendente): A inclinação é para baixo.\n",
        "* ***(HeartDisease):*** A classe de saída, indicando a presença ou ausência de doença cardíaca.\n",
        "  * 1: O paciente tem doença cardíaca.\n",
        "  * 0: O paciente é considerado normal (sem doença cardíaca).\n",
        "\n",
        "###🟫 Classificação dos Atributos\n",
        "\n",
        "####🔹 Atributos Numéricos\n",
        "São aqueles que representam quantidades e podem ser medidos.\n",
        "* **Idade (Age)**\n",
        "* **Pressão Arterial em Repouso (RestingBP)**\n",
        "* **Colesterol (Cholesterol)**\n",
        "* **Frequência Cardíaca Máxima (MaxHR)**\n",
        "* **Oldpeak**\n",
        "\n",
        "####🔸 Atributos Categóricos\n",
        "São aqueles que representam categorias ou grupos e não possuem um valor numérico inerente.\n",
        "* **Sexo (Sex)**\n",
        "* **Tipo de Dor no Peito (ChestPainType)**\n",
        "* **Glicemia em Jejum (FastingBS)**\n",
        "* **ECG em Repouso (RestingECG)**\n",
        "* **Angina Induzida por Exercício (ExerciseAngina)**\n",
        "* **Inclinação do Segmento ST de Pico do Exercício (ST_Slope)**\n",
        "* **Doença Cardíaca (HeartDisease)**"
      ],
      "metadata": {
        "id": "MY8j3FktaVB-"
      }
    },
    {
      "cell_type": "markdown",
      "source": [
        "### 📂📄 Carregando o Dataset\n",
        "\n"
      ],
      "metadata": {
        "id": "oNEKf3cmDKnS"
      }
    },
    {
      "cell_type": "code",
      "source": [
        "!mkdir -p ~/.kaggle\n",
        "\n",
        "from google.colab import files\n",
        "files.upload()\n",
        "\n",
        "!cp kaggle.json ~/.kaggle/\n",
        "!chmod 600 ~/.kaggle/kaggle.\n",
        "\n",
        "!kaggle datasets download -d fedesoriano/heart-failure-prediction\n",
        "!unzip -o heart-failure-prediction.zip\n"
      ],
      "metadata": {
        "id": "liX7iPKVDOMG"
      },
      "execution_count": null,
      "outputs": []
    },
    {
      "cell_type": "code",
      "source": [
        "df = pd.read_csv('heart.csv')\n",
        "df.head(10)"
      ],
      "metadata": {
        "id": "JeBy6-XFKJqv"
      },
      "execution_count": null,
      "outputs": []
    },
    {
      "cell_type": "markdown",
      "source": [
        "---\n",
        "# FASE 1\n",
        "---"
      ],
      "metadata": {
        "id": "zD24zSuDpBlM"
      }
    },
    {
      "cell_type": "markdown",
      "source": [
        "##🔎📊 Análise Exploratória dos Dados (EDA)"
      ],
      "metadata": {
        "id": "uxm6t8ODj_PO"
      }
    },
    {
      "cell_type": "markdown",
      "source": [
        "### 1. Visão Geral\n",
        "\n",
        "* Resumo das colunas, tipos de dados e contagem de valores não-nulos.\n",
        "* Estatísticas descritivas para colunas numéricas."
      ],
      "metadata": {
        "id": "6u-xjWQGkqL5"
      }
    },
    {
      "cell_type": "code",
      "source": [
        "df.info()"
      ],
      "metadata": {
        "id": "-On35yf_isq7"
      },
      "execution_count": null,
      "outputs": []
    },
    {
      "cell_type": "code",
      "source": [
        "df.describe()"
      ],
      "metadata": {
        "id": "tKNtj8cgisdi"
      },
      "execution_count": null,
      "outputs": []
    },
    {
      "cell_type": "markdown",
      "source": [
        "### 2. Análise Univariada\n",
        "\n",
        "* Compreender a distribuição individual de cada variável.\n",
        "* Identificar padrões, vieses, a concentração de dados e a presença de valores atípicos (outliers).\n",
        "* Verificar o balanço das classes na variável alvo (HeartDisease).\n",
        "\n"
      ],
      "metadata": {
        "id": "AoljtR4Cn5yb"
      }
    },
    {
      "cell_type": "markdown",
      "source": [
        "####🔹 Atributos numéricos\n",
        "📌 **Distribuição**\n",
        "\n",
        "❗ Visualizar a forma da distribuição de cada variável numérica.\n",
        "- Forma da Distribuição\n",
        "- Concentração dos Dados\n",
        "- Presença de Outliers\n",
        "- Vieses\n"
      ],
      "metadata": {
        "id": "FXTwbQVVvtC1"
      }
    },
    {
      "cell_type": "code",
      "source": [
        "# SELECIONANDO OS ATRIBUTOS NUMERICOS:\n",
        "numerical_attributes = ['Age', 'RestingBP', 'Cholesterol', 'MaxHR', 'Oldpeak']\n",
        "\n",
        "# (HISTOGRAMA) PLOTANDO A DISTRIBUIÇAO DE CADA ATRIBUTO NUMERICO\n",
        "plt.figure(figsize=(15, 10))\n",
        "for i, col in enumerate(numerical_attributes):\n",
        "    plt.subplot(2, 3, i + 1)\n",
        "    sns.histplot(data=df, x=col, kde=True)\n",
        "    plt.title(f'Distribuição de {col}') # Título do gráfico\n",
        "    plt.xlabel(col) # Rótulo do eixo X\n",
        "    plt.ylabel('Frequência') # Rótulo do eixo Y\n",
        "plt.tight_layout() # Ajusta o layout para evitar sobreposição\n",
        "#plt.savefig('numerical_histograms.png') # Salva a figura"
      ],
      "metadata": {
        "id": "3hG6VxLIn0mN"
      },
      "execution_count": null,
      "outputs": []
    },
    {
      "cell_type": "markdown",
      "source": [
        "🧠 Insights:\n",
        "\n",
        "-\n",
        "-\n",
        "-\n"
      ],
      "metadata": {
        "id": "7lAAVu3c5iq1"
      }
    },
    {
      "cell_type": "markdown",
      "source": [
        "📌 **Dispersão**\n",
        "\n",
        "❗ Resumir a distribuição de uma variável e identificar outliers de forma clara.\n",
        "- Mediana\n",
        "- Quartis (Q1 e Q3)\n",
        "- Amplitude (Range)\n",
        "- Simetria\n"
      ],
      "metadata": {
        "id": "xUmJ23f539Tg"
      }
    },
    {
      "cell_type": "code",
      "source": [
        "# (BOXPLOT) PLOTANDO A DISPERSAO DE CADA ATRIBUTO NUMERICO\n",
        "plt.figure(figsize=(15, 10))\n",
        "for i, col in enumerate(numerical_attributes):\n",
        "    plt.subplot(2, 3, i + 1)\n",
        "    sns.boxplot(y=df[col]) # Cria o box plot\n",
        "    plt.title(f'Box Plot de {col}') # Título do gráfico\n",
        "    plt.ylabel(col) # Rótulo do eixo Y\n",
        "plt.tight_layout() # Ajusta o layout para evitar sobreposição\n",
        "plt.savefig('numerical_boxplots.png') # Salva a figura"
      ],
      "metadata": {
        "id": "6CYDo9Iqyu_n"
      },
      "execution_count": null,
      "outputs": []
    },
    {
      "cell_type": "markdown",
      "source": [
        "🧠 Insights:\n",
        "\n",
        "-\n",
        "-\n",
        "-\n"
      ],
      "metadata": {
        "id": "5VAu90g86a0u"
      }
    },
    {
      "cell_type": "markdown",
      "source": [
        "📌 **Estatísticas Descritivas**\n",
        "\n",
        "❗ Fornecer um resumo numérico preciso das variáveis, complementando as visualizações.\n",
        "- Média\n",
        "- Mediana\n",
        "- Moda\n",
        "- Desvio Padrão\n",
        "- Quartis"
      ],
      "metadata": {
        "id": "Jj7xb0rm-z3Z"
      }
    },
    {
      "cell_type": "code",
      "source": [
        "for col in numerical_attributes:\n",
        "    print(f\"\\n--- Atributo: {col} ---\")\n",
        "    print(f\"Média: {df[col].mean():.2f}\") # Calcula a média\n",
        "    print(f\"Mediana: {df[col].median():.2f}\") # Calcula a mediana\n",
        "\n",
        "    # A moda pode ter múltiplos valores ou nenhum\n",
        "    moda = df[col].mode()\n",
        "    if len(moda) > 1:\n",
        "        print(f\"Moda: {', '.join(map(str, moda.tolist()))}\")\n",
        "    elif len(moda) == 1:\n",
        "        print(f\"Moda: {moda[0]:.2f}\")\n",
        "    else:\n",
        "        print(\"Moda: Não encontrada ou todos os valores únicos.\")\n",
        "\n",
        "    print(f\"Desvio Padrão: {df[col].std():.2f}\") # Calcula o desvio padrão\n",
        "    print(f\"Variância: {df[col].var():.2f}\") # Calcula a variância\n",
        "    print(f\"Quartis (25%, 50%, 75%):\\n{df[col].quantile([0.25, 0.5, 0.75]).to_string()}\") # Calcula os quartis"
      ],
      "metadata": {
        "id": "3OBmzhc25GD8"
      },
      "execution_count": null,
      "outputs": []
    },
    {
      "cell_type": "markdown",
      "source": [
        "🧠 Insights:\n",
        "\n",
        "-\n",
        "-\n",
        "-\n"
      ],
      "metadata": {
        "id": "a_nG4QRT_l2S"
      }
    },
    {
      "cell_type": "markdown",
      "source": [
        "####🔸 Atributos Categóricos\n",
        "📌 Frequência de Ocorrências\n",
        "\n",
        "❗ Visualizar a contagem de ocorrências de cada categoria.\n",
        "- Distribuição das Categorias\n",
        "- Balanço das Classes\n",
        "- Problemas de Dados\n",
        "- Composição da População"
      ],
      "metadata": {
        "id": "G2XhyhmFAWK6"
      }
    },
    {
      "cell_type": "code",
      "source": [
        "# # SELECIONANDO OS ATRIBUTOS CATEGÓRICOS\n",
        "# Lembre-se: 'FastingBS' e 'HeartDisease' são numéricos, mas representam categorias (0 ou 1)\n",
        "categorical_attributes = ['Sex', 'ChestPainType', 'FastingBS', 'RestingECG', 'ExerciseAngina', 'ST_Slope', 'HeartDisease']\n",
        "\n",
        "# (BARRAS) PLOTANDO CONTAGEM DE OCORRÊNCIAS DE CADA CATEGORIA\n",
        "plt.figure(figsize=(18, 15)) # Define o tamanho da figura para múltiplos plots\n",
        "for i, col in enumerate(categorical_attributes):\n",
        "    plt.subplot(3, 3, i + 1) # Organiza os plots em uma grade 3x3\n",
        "    sns.countplot(data=df, x=col, hue=col, palette='viridis', legend=False) # Cria o countplot\n",
        "    plt.title(f'Frequência de {col}') # Título do gráfico\n",
        "    plt.xlabel(col) # Rótulo do eixo X\n",
        "    plt.ylabel('Contagem') # Rótulo do eixo Y\n",
        "    plt.xticks(rotation=45, ha='right') # Rotaciona os rótulos do eixo X para melhor leitura\n",
        "plt.tight_layout() # Ajusta o layout para evitar sobreposição\n",
        "plt.savefig('categorical_count_plots.png') # Salva a figura"
      ],
      "metadata": {
        "id": "ZsAqtJrM_ayc"
      },
      "execution_count": null,
      "outputs": []
    },
    {
      "cell_type": "markdown",
      "source": [
        "🧠 Insights:\n",
        "\n",
        "-\n",
        "-\n",
        "-\n"
      ],
      "metadata": {
        "id": "soBxr-grFCGz"
      }
    },
    {
      "cell_type": "markdown",
      "source": [
        "📌 Contagem e Proporção de Cada Categoria\n",
        "\n",
        "❗ A contagem e a proporção numérica oferecem a precisão necessária.\n",
        "- Valores Exatos\n",
        "- Percentagens Reais\n",
        "  - Identificar Categorias Dominantes ou Raras\n",
        "  - Confirmar o Balanço de Classes\n",
        "  - Verificar Erros de Digitação ou Codificação"
      ],
      "metadata": {
        "id": "ldT3qGdWFcXo"
      }
    },
    {
      "cell_type": "code",
      "source": [
        "for col in categorical_attributes:\n",
        "    print(f\"\\n--- Atributo: {col} ---\")\n",
        "\n",
        "    # Contagem de valores\n",
        "    counts = df[col].value_counts()\n",
        "    print(\"Contagem de Valores:\")\n",
        "    print(counts.to_string()) # Usar .to_string() para exibir todas as linhas se houver muitas\n",
        "\n",
        "    # Proporção de valores\n",
        "    proportions = df[col].value_counts(normalize=True) * 100 # normalize=True retorna proporções\n",
        "    print(\"\\nProporção de Valores (%):\")\n",
        "    print(proportions.round(2).to_string()) # Arredonda para 2 casas decimais e exibe todas as linhas"
      ],
      "metadata": {
        "id": "qqcRZCpECk1J"
      },
      "execution_count": null,
      "outputs": []
    },
    {
      "cell_type": "markdown",
      "source": [
        "🧠 Insights:\n",
        "\n",
        "-\n",
        "-\n",
        "-"
      ],
      "metadata": {
        "id": "6GfK21SbGiEM"
      }
    },
    {
      "cell_type": "markdown",
      "source": [
        "### 3. Análise Bivariada\n",
        "* Descobrir relações, tendências e padrões entre pares de variáveis.\n",
        "* Identificar quais variáveis podem ser mais preditivas para a variável alvo (HeartDisease).\n",
        "* Entender como diferentes atributos interagem entre si.\n"
      ],
      "metadata": {
        "id": "adHDyeGXIxzc"
      }
    },
    {
      "cell_type": "markdown",
      "source": [
        "#### 🆚 Numérico x Numérico\n",
        "\n",
        "📌 Gráficos de Dispersão (Scatter Plots)\n",
        "- Identificar Relações\n",
        "- Detectar Padrões e Clusters\n",
        "- Perceber Outliers Bivariados\n",
        "- Avaliar a Separação por Variável Alvo"
      ],
      "metadata": {
        "id": "ir9kc_auJLZg"
      }
    },
    {
      "cell_type": "code",
      "source": [
        "import itertools\n",
        "\n",
        "# Gerar todos os pares únicos de atributos numéricos\n",
        "scatter_pairs = list(itertools.combinations(numerical_attributes, 2))\n",
        "\n",
        "# Exibir os pares\n",
        "print(\"Pares de atributos numéricos:\")\n",
        "for pair in scatter_pairs:\n",
        "    print(pair)\n"
      ],
      "metadata": {
        "id": "A029JkmwGVvR"
      },
      "execution_count": null,
      "outputs": []
    },
    {
      "cell_type": "code",
      "source": [
        "plt.figure(figsize=(18, 12))\n",
        "for i, (x_col, y_col) in enumerate(scatter_pairs):\n",
        "    plt.subplot(4, 3, i + 1)\n",
        "    sns.scatterplot(data=df, x=x_col, y=y_col, hue='HeartDisease', alpha=0.7) # 'hue' para ver a relação com a doença cardíaca\n",
        "    plt.title(f'Dispersão de {x_col} vs. {y_col}') # Título\n",
        "    plt.xlabel(x_col) # Rótulo X\n",
        "    plt.ylabel(y_col) # Rótulo Y\n",
        "plt.tight_layout() # Ajusta o layout\n",
        "plt.savefig('numerical_scatter_plots.png') # Salva a figura"
      ],
      "metadata": {
        "id": "arMGcLn5Ui0_"
      },
      "execution_count": null,
      "outputs": []
    },
    {
      "cell_type": "markdown",
      "source": [
        "🧠 Insights:\n",
        "\n",
        "-\n",
        "-\n",
        "-"
      ],
      "metadata": {
        "id": "pKzF2fYZW2Rs"
      }
    },
    {
      "cell_type": "markdown",
      "source": [
        "📌 Matriz de Correlação e Heatmap\n",
        "- Quantificar Relações Lineares\n",
        "- Identificar Multicolinearidade\n",
        "- Entender Preditores Potenciais"
      ],
      "metadata": {
        "id": "kKl3HI0JWO--"
      }
    },
    {
      "cell_type": "code",
      "source": [
        "# Calcular a matriz de correlação para atributos numéricos\n",
        "correlation_matrix = df[numerical_attributes].corr()\n",
        "\n",
        "plt.figure(figsize=(10, 8)) # Define o tamanho da figura\n",
        "sns.heatmap(correlation_matrix, annot=True, cmap='coolwarm', fmt=\".2f\", linewidths=.5) # Cria o heatmap\n",
        "plt.title('Matriz de Correlação entre Atributos Numéricos') # Título\n",
        "plt.xticks(rotation=45, ha='right') # Rotaciona rótulos para melhor leitura\n",
        "plt.yticks(rotation=0) # Garante rótulos Y legíveis\n",
        "plt.tight_layout() # Ajusta o layout\n",
        "plt.savefig('numerical_correlation_heatmap.png') # Salva a figura"
      ],
      "metadata": {
        "id": "RN-5pMo6U3x_"
      },
      "execution_count": null,
      "outputs": []
    },
    {
      "cell_type": "markdown",
      "source": [
        "🧠 Insights:\n",
        "\n",
        "-\n",
        "-\n",
        "-"
      ],
      "metadata": {
        "id": "3nlUSqFUXyZL"
      }
    },
    {
      "cell_type": "markdown",
      "source": [
        "#### 🆚 Categórico x Categórico\n",
        "\n",
        "📌 Tabelas de Contingência\n",
        "- Entender Frequências Conjuntas\n",
        "- Avaliar Associações\n",
        "- Identificar Preditores Categóricos\n"
      ],
      "metadata": {
        "id": "8nVRdr8sX-pI"
      }
    },
    {
      "cell_type": "code",
      "source": [
        "# Remover 'HeartDisease' temporariamente da lista de categóricos para evitar que ela seja comparada consigo mesma,\n",
        "# mas vamos usá-la como a variável alvo na maioria das comparações.\n",
        "categorical_features_for_crosstab = [col for col in categorical_attributes if col != 'HeartDisease']\n",
        "\n",
        "print(\"\\nTabelas de Contingência (Frequência Conjunta) para Atributos Categóricos vs. HeartDisease:\")\n",
        "for col in categorical_features_for_crosstab:\n",
        "    print(f\"\\n--- {col} vs. HeartDisease ---\")\n",
        "\n",
        "    # Tabela de contingência absoluta\n",
        "    crosstab_abs = pd.crosstab(df[col], df['HeartDisease'])\n",
        "    print(\"\\nContagem Absoluta:\")\n",
        "    print(crosstab_abs.to_string())\n",
        "\n",
        "    # Tabela de contingência de proporção (normalizada pela linha, para ver a distribuição de HeartDisease por categoria)\n",
        "    crosstab_prop_row = pd.crosstab(df[col], df['HeartDisease'], normalize='index') * 100\n",
        "    print(\"\\nProporção por Linha (%) - Distribuição de HeartDisease dentro de cada categoria de '\", col, \"':\")\n",
        "    print(crosstab_prop_row.round(2).to_string())\n",
        "\n",
        "    # Tabela de contingência de proporção (normalizada pela coluna, para ver a distribuição de cada categoria por HeartDisease)\n",
        "    crosstab_prop_col = pd.crosstab(df[col], df['HeartDisease'], normalize='columns') * 100\n",
        "    print(\"\\nProporção por Coluna (%) - Distribuição de '\", col, \"' dentro de cada categoria de HeartDisease:\")\n",
        "    print(crosstab_prop_col.round(2).to_string())\n",
        "\n",
        "# Exemplo de crosstab entre duas variáveis categóricas não-alvo\n",
        "print(\"\\n--- Sexo vs. Tipo de Dor no Peito (ChestPainType) ---\")\n",
        "print(pd.crosstab(df['Sex'], df['ChestPainType']).to_string())\n"
      ],
      "metadata": {
        "id": "J05I04trY25K"
      },
      "execution_count": null,
      "outputs": []
    },
    {
      "cell_type": "markdown",
      "source": [
        "🧠 Insights:\n",
        "\n",
        "-\n",
        "-\n",
        "-"
      ],
      "metadata": {
        "id": "BC6l1slHapvu"
      }
    },
    {
      "cell_type": "markdown",
      "source": [
        "📌 Gráficos de Barras Empilhadas ou Agrupadas\n",
        "- Comparação Visual de Frequências\n",
        "- Identificação Rápida de Padrões\n",
        "- Compreensão da Composição"
      ],
      "metadata": {
        "id": "KXjSK16bYiIn"
      }
    },
    {
      "cell_type": "code",
      "source": [
        "plt.figure(figsize=(18, 15)) # Define o tamanho da figura\n",
        "for i, col in enumerate(categorical_features_for_crosstab):\n",
        "    plt.subplot(3, 3, i + 1) # Organiza os plots\n",
        "    sns.countplot(data=df, x=col, hue='HeartDisease', palette='Set2') # Cria o countplot com hue\n",
        "    plt.title(f'Distribuição de {col} por Doença Cardíaca') # Título\n",
        "    plt.xlabel(col) # Rótulo X\n",
        "    plt.ylabel('Contagem') # Rótulo Y\n",
        "    plt.xticks(rotation=45, ha='right') # Rotaciona rótulos\n",
        "    plt.legend(title='Doença Cardíaca', labels=['Normal (0)', 'Com Doença (1)']) # Legenda\n",
        "plt.tight_layout() # Ajusta o layout\n",
        "plt.savefig('categorical_bivariate_bar_plots.png') # Salva a figura"
      ],
      "metadata": {
        "id": "KCs4WqVnXzeH"
      },
      "execution_count": null,
      "outputs": []
    },
    {
      "cell_type": "markdown",
      "source": [
        "🧠 Insights:\n",
        "\n",
        "-\n",
        "-\n",
        "-"
      ],
      "metadata": {
        "id": "A-FguLZbb6_j"
      }
    },
    {
      "cell_type": "markdown",
      "source": [
        "#### 🆚 Numérico x Categórico (com HeartDisease)\n",
        "\n",
        "📌 Tabelas de Contingência\n",
        "- Comparar Distribuições\n",
        "- Identificar Diferenças de Grupo\n",
        "- Verificar Outliers por Grupo\n",
        "- Densidade da Distribuição (Violin Plots)"
      ],
      "metadata": {
        "id": "oikeeANucEJP"
      }
    },
    {
      "cell_type": "code",
      "source": [
        "#Boxplot\n",
        "plt.figure(figsize=(18, 12)) # Define o tamanho da figura\n",
        "for i, col in enumerate(numerical_attributes):\n",
        "    plt.subplot(2, 3, i + 1) # Organiza os plots\n",
        "    sns.boxplot(data=df, x='HeartDisease', y=col, hue='HeartDisease', palette='pastel', legend=False) # Cria o box plot\n",
        "    plt.title(f'Distribuição de {col} por Doença Cardíaca') # Título\n",
        "    plt.xlabel('Doença Cardíaca (0: Normal, 1: Com Doença)') # Rótulo X\n",
        "    plt.ylabel(col) # Rótulo Y\n",
        "    plt.xticks([0, 1], ['Normal (0)', 'Com Doença (1)']) # Define rótulos personalizados para o eixo X\n",
        "plt.tight_layout() # Ajusta o layout\n",
        "#plt.savefig('numerical_vs_heartdisease_boxplots.png') # Salva a figura"
      ],
      "metadata": {
        "id": "jFz0pu4Wb7sS"
      },
      "execution_count": null,
      "outputs": []
    },
    {
      "cell_type": "code",
      "source": [
        "#Violin Plot\n",
        "plt.figure(figsize=(18, 12))\n",
        "for i, col in enumerate(numerical_attributes):\n",
        "    plt.subplot(2, 3, i + 1)\n",
        "    sns.violinplot(data=df, x='HeartDisease', y=col, hue='HeartDisease', palette='coolwarm', legend=False)\n",
        "    plt.title(f'Distribuição de {col} por Doença Cardíaca (Violin Plot)')\n",
        "    plt.xlabel('Doença Cardíaca (0: Normal, 1: Com Doença)')\n",
        "    plt.ylabel(col)\n",
        "    plt.xticks([0, 1], ['Normal (0)', 'Com Doença (1)'])\n",
        "plt.tight_layout() # Ajusta o layout\n",
        "#plt.savefig('age_vs_heartdisease_violinplot.png')"
      ],
      "metadata": {
        "id": "7x8onIb0d3CR"
      },
      "execution_count": null,
      "outputs": []
    },
    {
      "cell_type": "markdown",
      "source": [
        "🧠 Insights:\n",
        "\n",
        "-\n",
        "-\n",
        "-"
      ],
      "metadata": {
        "id": "X-0bHz0xic8n"
      }
    },
    {
      "cell_type": "markdown",
      "source": [
        "---\n",
        "# FASE 2\n",
        "---"
      ],
      "metadata": {
        "id": "Fkv7sY-3o5GZ"
      }
    },
    {
      "cell_type": "markdown",
      "source": [
        "## 🤖 Modelagem Inicial com Dados Brutos (Baseline)"
      ],
      "metadata": {
        "id": "4H3hWgkprujJ"
      }
    },
    {
      "cell_type": "markdown",
      "source": [
        "### 1. Preparação dos Dados para o Modelo"
      ],
      "metadata": {
        "id": "iCa9SsjrsKNJ"
      }
    },
    {
      "cell_type": "markdown",
      "source": [
        "####⛓️‍💥 Separar atributos (X) da variável alvo (y = HeartDisease)."
      ],
      "metadata": {
        "id": "REoP7GOAxY1R"
      }
    },
    {
      "cell_type": "code",
      "source": [
        "X = df.drop('HeartDisease', axis=1)\n",
        "y = df['HeartDisease']\n",
        "\n",
        "X.shape, y.shape"
      ],
      "metadata": {
        "id": "AqNPiAnw2aAy"
      },
      "execution_count": null,
      "outputs": []
    },
    {
      "cell_type": "markdown",
      "source": [
        "####🔡🔜🔢 Converter atributos categóricos (encoding)"
      ],
      "metadata": {
        "id": "9LWcCFxMyEZB"
      }
    },
    {
      "cell_type": "markdown",
      "source": [
        "**❗Decisão da Equipe:**\n",
        "\n",
        " Para este projeto inicial, e dada a natureza nominal da maioria das suas categorias (tipo de dor no peito, sexo, etc., que não têm uma ordem intrínseca), o **One-Hot Encoding** é geralmente a escolha mais segura e recomendada. Ele evita que o modelo infira relações ordinais inexistentes."
      ],
      "metadata": {
        "id": "vrfW0fgd6ipk"
      }
    },
    {
      "cell_type": "code",
      "source": [
        "# Identificar colunas com tipo 'object' (strings) que são tipicamente categóricas\n",
        "categorical_cols_to_encode = X.select_dtypes(include='object').columns\n",
        "\n",
        "# Codificando os atributos categóricos\n",
        "X_encoded = pd.get_dummies(X, columns=categorical_cols_to_encode, drop_first=True) # drop_first=True evita multicolinearidade perfeita\n",
        "X_encoded.info()"
      ],
      "metadata": {
        "id": "ljCc3acq7jI1"
      },
      "execution_count": null,
      "outputs": []
    },
    {
      "cell_type": "markdown",
      "source": [
        "### 2. Escolha e Justificativa do Algoritmo Inicial"
      ],
      "metadata": {
        "id": "HceJ6ct-sXuu"
      }
    },
    {
      "cell_type": "markdown",
      "source": [
        "####✅ Selecionar um algoritmo de classificação"
      ],
      "metadata": {
        "id": "B2FKa28VygxF"
      }
    },
    {
      "cell_type": "markdown",
      "source": [
        "**❗Decisão da equipe: Random Forest**\n",
        "\n",
        "Um algoritmo de ensemble baseado em árvores de decisão que geralmente apresenta bom desempenho e é robusto a outliers (que foram observados na análise exploratória). Lida bem com atributos numéricos e categóricos e pode capturar interações não lineares entre as variáveis. Sua natureza de ensemble ajuda a reduzir o overfitting.\n",
        "\n"
      ],
      "metadata": {
        "id": "7_CGNwp7-egH"
      }
    },
    {
      "cell_type": "code",
      "source": [
        "model = RandomForestClassifier(random_state=42)"
      ],
      "metadata": {
        "id": "lE0_Fz4uDraB"
      },
      "execution_count": null,
      "outputs": []
    },
    {
      "cell_type": "markdown",
      "source": [
        "### 3. Treinamento do Modelo com Validação Cruzada"
      ],
      "metadata": {
        "id": "JuXH5uc7sfYl"
      }
    },
    {
      "cell_type": "markdown",
      "source": [
        "####📂📂 Dividir o dataset em conjuntos de treino e teste"
      ],
      "metadata": {
        "id": "xGmsDpK4y8ox"
      }
    },
    {
      "cell_type": "markdown",
      "source": [
        "Mantém a integridade da avaliação do modelo em dados não vistos, protegendo contra o overfitting. A divisão estratificada (stratify=y) é crucial para garantir que a proporção das classes da variável alvo (HeartDisease) seja mantida tanto no conjunto de treino quanto no de teste."
      ],
      "metadata": {
        "id": "L3ESpJ9Y_O-9"
      }
    },
    {
      "cell_type": "code",
      "source": [
        "# Dividir o dataset em conjuntos de treino e teste (e.g., 80/20)\n",
        "X_train, X_test, y_train, y_test = train_test_split(X_encoded, y, test_size=0.2, random_state=42, stratify=y)\n",
        "X_train.shape, X_test.shape\n"
      ],
      "metadata": {
        "id": "aV4NXr9iBnnf"
      },
      "execution_count": null,
      "outputs": []
    },
    {
      "cell_type": "code",
      "source": [
        "# Verificar o balanceamento das classes no treino e teste\n",
        "print(y_train.value_counts(normalize=True))\n",
        "print(y_test.value_counts(normalize=True))"
      ],
      "metadata": {
        "id": "RyQORI4TC1p_"
      },
      "execution_count": null,
      "outputs": []
    },
    {
      "cell_type": "markdown",
      "source": [
        "####🔀 Aplicar validação cruzada"
      ],
      "metadata": {
        "id": "mWbKNzxjzMk_"
      }
    },
    {
      "cell_type": "markdown",
      "source": [
        "Proporciona uma estimativa mais estável e confiável do desempenho do modelo em generalização, reduzindo a variabilidade que poderia surgir de uma única divisão de treino/teste."
      ],
      "metadata": {
        "id": "JUPhp8yqDZwC"
      }
    },
    {
      "cell_type": "code",
      "source": [
        "# Definir o número de folds para a validação cruzada\n",
        "k_folds = 5\n",
        "\n",
        "# Realizar a validação cruzada\n",
        "# Usaremos 'accuracy' como métrica de pontuação para o baseline.\n",
        "cv_scores = cross_val_score(model, X_train, y_train, cv=k_folds, scoring='accuracy')\n",
        "\n",
        "print(f\"Scores de Acurácia por Fold: {cv_scores}\")\n",
        "print(f\"Acurácia Média da Validação Cruzada: {cv_scores.mean():.4f}\")\n",
        "print(f\"Desvio Padrão da Acurácia da Validação Cruzada: {cv_scores.std():.4f}\")"
      ],
      "metadata": {
        "id": "FT1jpni7DzMY"
      },
      "execution_count": null,
      "outputs": []
    },
    {
      "cell_type": "markdown",
      "source": [
        "#### 🏋🏽Treinar o modelo"
      ],
      "metadata": {
        "id": "6pWwMpeAHNgw"
      }
    },
    {
      "cell_type": "markdown",
      "source": [
        "Este é o passo onde o algoritmo de Machine Learning aprende os padrões dos dados. Ele ajusta seus parâmetros internos para mapear as features (X_train) para a variável alvo (y_train)."
      ],
      "metadata": {
        "id": "XWbXSJadJoIJ"
      }
    },
    {
      "cell_type": "code",
      "source": [
        "# Treinar o modelo no X_train e y_train\n",
        "model.fit(X_train, y_train)"
      ],
      "metadata": {
        "id": "l5__fn-dJqfp"
      },
      "execution_count": null,
      "outputs": []
    },
    {
      "cell_type": "markdown",
      "source": [
        "####🔮 Testar o modelo (Previsões)"
      ],
      "metadata": {
        "id": "RGtYUSOYKD42"
      }
    },
    {
      "cell_type": "markdown",
      "source": [
        "### 4. Avaliação e Métricas"
      ],
      "metadata": {
        "id": "UdpNMUuAsrWg"
      }
    },
    {
      "cell_type": "markdown",
      "source": [
        "####▶️ Testar o Modelo (Previsões)"
      ],
      "metadata": {
        "id": "rFs2o0jsz1wl"
      }
    },
    {
      "cell_type": "markdown",
      "source": [
        "Estas previsões são o que o modelo \"acha\" que são as classes dos exemplos no conjunto de teste. Elas serão comparadas com os valores reais (y_test) para avaliar o desempenho."
      ],
      "metadata": {
        "id": "1Qer2PsxKX4l"
      }
    },
    {
      "cell_type": "code",
      "source": [
        "# Fazer previsões no X_test\n",
        "y_pred = model.predict(X_test)\n",
        "\n",
        "# Calcular as probabilidades de previsão para a classe positiva (usado para ROC AUC)\n",
        "y_prob = model.predict_proba(X_test)[:, 1]"
      ],
      "metadata": {
        "id": "NnWzxuxKKfsB"
      },
      "execution_count": null,
      "outputs": []
    },
    {
      "cell_type": "markdown",
      "source": [
        "####🔍 Análise dos Resultados"
      ],
      "metadata": {
        "id": "LLOB4qBE0RNl"
      }
    },
    {
      "cell_type": "markdown",
      "source": [
        "Essas métricas fornecem uma visão completa do desempenho do modelo, destacando seus pontos fortes e fracos em relação à identificação de cada classe (normal vs. doença cardíaca)."
      ],
      "metadata": {
        "id": "LwERFY7HLp8f"
      }
    },
    {
      "cell_type": "markdown",
      "source": [
        "**🟢 Acurácia:**\n",
        "\n",
        "A Acurácia é a métrica mais intuitiva e simples: é a proporção de previsões corretas (número de acertos / número total de exemplos).\n",
        "\n",
        "⚠️ Para problemas de classificação com classes desbalanceadas, a acurácia pode ser muito enganosa.\n"
      ],
      "metadata": {
        "id": "EHRv2q0gOipw"
      }
    },
    {
      "cell_type": "code",
      "source": [
        "# Acurácia\n",
        "accuracy = accuracy_score(y_test, y_pred)\n",
        "print(f\"Acurácia: {accuracy:.4f}\")"
      ],
      "metadata": {
        "id": "_UG8KCluL9Mo"
      },
      "execution_count": null,
      "outputs": []
    },
    {
      "cell_type": "markdown",
      "source": [
        "**🟢 Precisão (Precision):**\n",
        "\n",
        "Quantos dos que o modelo previu como HeartDisease=1 são realmente HeartDisease=1.\n",
        "\n",
        "**🟢 Sensibilidade (Recall):**\n",
        "\n",
        "Dos que realmente têm HeartDisease=1, quantos o modelo conseguiu identificar.\n",
        "\n",
        "**🟢 F1-Score:**\n",
        "\n",
        "Uma média harmônica entre Precisão e Recall, útil quando você quer um equilíbrio entre ambos.\n"
      ],
      "metadata": {
        "id": "CDvCt_7CPw48"
      }
    },
    {
      "cell_type": "code",
      "source": [
        "# Classification Report (Precisão, Recall, F1-Score)\n",
        "print(\"\\nRelatório de Classificação:\")\n",
        "print(classification_report(y_test, y_pred, target_names=['Normal (0)', 'Com Doença (1)']))"
      ],
      "metadata": {
        "id": "7BsAaW4CMuuh"
      },
      "execution_count": null,
      "outputs": []
    },
    {
      "cell_type": "markdown",
      "source": [
        "**🟢 Matriz de Confusão:**\n",
        "\n",
        "Uma tabela que resume o número de previsões corretas e incorretas por classe.\n",
        "- VP = Verdadeiros Positivos\n",
        "- VN = Verdadeiros Negativos\n",
        "- FP = Falsos Positivos\n",
        "- FN = Falsos Negativos\n",
        "\n",
        "⚠️ Em problemas de saúde, Falsos Negativos (perder um diagnóstico) são geralmente mais críticos."
      ],
      "metadata": {
        "id": "qREZjuq_Q1Es"
      }
    },
    {
      "cell_type": "code",
      "source": [
        "# Matriz de Confusão\n",
        "conf_matrix = confusion_matrix(y_test, y_pred)\n",
        "print(\"\\nMatriz de Confusão:\")\n",
        "print(conf_matrix)\n",
        "\n",
        "print(f\"  Verdadeiros Positivos (VP): {conf_matrix[1, 1]} (Modelos previu 1 e o real era 1)\")\n",
        "print(f\"  Verdadeiros Negativos (VN): {conf_matrix[0, 0]} (Modelos previu 0 e o real era 0)\")\n",
        "print(f\"  Falsos Positivos (FP): {conf_matrix[0, 1]} (Modelos previu 1, mas o real era 0 - Erro Tipo I)\")\n",
        "print(f\"  Falsos Negativos (FN): {conf_matrix[1, 0]} (Modelos previu 0, mas o real era 1 - Erro Tipo II)\")"
      ],
      "metadata": {
        "id": "XTu8u4glNItx"
      },
      "execution_count": null,
      "outputs": []
    },
    {
      "cell_type": "markdown",
      "source": [
        "**🟢 Curva ROC e AUC:**\n",
        "\n",
        "Uma métrica que avalia a capacidade do modelo de distinguir entre as classes, independentemente do limiar de classificação. É robusta para desequilíbrio de classes."
      ],
      "metadata": {
        "id": "AdlSfKSsSDUJ"
      }
    },
    {
      "cell_type": "code",
      "source": [
        "# ROC AUC Score\n",
        "roc_auc = roc_auc_score(y_test, y_prob)\n",
        "print(f\"\\nROC AUC Score: {roc_auc:.4f}\")"
      ],
      "metadata": {
        "id": "tgUr3fOANfAO"
      },
      "execution_count": null,
      "outputs": []
    },
    {
      "cell_type": "code",
      "source": [
        "# Plotar Curva ROC\n",
        "plt.figure(figsize=(8, 6))\n",
        "roc_display = RocCurveDisplay.from_estimator(model, X_test, y_test, name='RandomForestClassifier')\n",
        "roc_display.plot(ax=plt.gca()) # Usa o eixo atual do plot\n",
        "plt.title('Curva ROC para RandomForestClassifier (Dados Brutos)')\n",
        "plt.grid(True)\n",
        "plt.savefig('roc_curve_baseline_rf.png')"
      ],
      "metadata": {
        "id": "57U2cUSeSqaJ"
      },
      "execution_count": null,
      "outputs": []
    },
    {
      "cell_type": "markdown",
      "source": [
        "🧠 Insights:\n",
        "\n",
        "-\n",
        "-\n",
        "-"
      ],
      "metadata": {
        "id": "NmN5G-0MTTDb"
      }
    },
    {
      "cell_type": "markdown",
      "source": [
        "---\n",
        "# FASE 3\n",
        "---"
      ],
      "metadata": {
        "id": "Ig6k19arsz6O"
      }
    },
    {
      "cell_type": "markdown",
      "source": [
        "## 🧹🛠️ Limpeza e Tratamento dos Dados"
      ],
      "metadata": {
        "id": "VmPYWrvxtA01"
      }
    },
    {
      "cell_type": "markdown",
      "source": [
        "### 1. Tratamento de Valores Ausentes"
      ],
      "metadata": {
        "id": "yRFu61ZYtk7t"
      }
    },
    {
      "cell_type": "markdown",
      "source": [
        "### 2. Tratamento de Outliers"
      ],
      "metadata": {
        "id": "nvSPExW8tvkt"
      }
    },
    {
      "cell_type": "markdown",
      "source": [
        "### 3. Correção de \"Muitos Valores Zero\""
      ],
      "metadata": {
        "id": "6pOCyNpMt06z"
      }
    },
    {
      "cell_type": "markdown",
      "source": [
        "### 4. Engenharia e Seleção de Atributos (Feature Engineering)"
      ],
      "metadata": {
        "id": "1FjttTTxuAEW"
      }
    },
    {
      "cell_type": "markdown",
      "source": [
        "### 5. Escalonamento/Normalização de Atributos Numéricos"
      ],
      "metadata": {
        "id": "Jyfi5AyOuMi9"
      }
    },
    {
      "cell_type": "markdown",
      "source": [
        "---\n",
        "# FASE 4\n",
        "---"
      ],
      "metadata": {
        "id": "I-lJJhHcvUWx"
      }
    },
    {
      "cell_type": "markdown",
      "source": [
        "##🤖🆙 Modelagem Aprimorada com Dados Tratados"
      ],
      "metadata": {
        "id": "GCBFNt84vf_N"
      }
    },
    {
      "cell_type": "code",
      "source": [],
      "metadata": {
        "id": "2QfVSE4_ihxo"
      },
      "execution_count": null,
      "outputs": []
    }
  ]
}